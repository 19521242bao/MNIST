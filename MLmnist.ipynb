{
  "nbformat": 4,
  "nbformat_minor": 0,
  "metadata": {
    "colab": {
      "name": "MLmnist.ipynb",
      "provenance": [],
      "toc_visible": true,
      "authorship_tag": "ABX9TyOU8VJ6PgBrAqLBiMhJXz+w",
      "include_colab_link": true
    },
    "kernelspec": {
      "name": "python3",
      "display_name": "Python 3"
    },
    "language_info": {
      "name": "python"
    }
  },
  "cells": [
    {
      "cell_type": "markdown",
      "metadata": {
        "id": "view-in-github",
        "colab_type": "text"
      },
      "source": [
        "<a href=\"https://colab.research.google.com/github/19521242bao/MNIST/blob/main/MLmnist.ipynb\" target=\"_parent\"><img src=\"https://colab.research.google.com/assets/colab-badge.svg\" alt=\"Open In Colab\"/></a>"
      ]
    },
    {
      "cell_type": "markdown",
      "metadata": {
        "id": "tJ2LXfSIuoiF"
      },
      "source": [
        "# Digit recognition"
      ]
    },
    {
      "cell_type": "code",
      "metadata": {
        "id": "Mw1tV-luutQd"
      },
      "source": [
        "#import thư viện\n",
        "import pandas as pd\n",
        "import matplotlib.pyplot as plt\n",
        "import numpy as np\n",
        "import random\n"
      ],
      "execution_count": null,
      "outputs": []
    },
    {
      "cell_type": "markdown",
      "metadata": {
        "id": "DznIOT32wFfZ"
      },
      "source": [
        "#Chuẩn bị dữ liệu"
      ]
    },
    {
      "cell_type": "markdown",
      "metadata": {
        "id": "YHSXKyYovkw-"
      },
      "source": [
        "## **Load dữ liệu**"
      ]
    },
    {
      "cell_type": "code",
      "metadata": {
        "id": "P5aeyfbCuxgG"
      },
      "source": [
        "\n",
        "# Định nghĩa các đường dẫn đến tập dữ liệu train và tập dữ liệu test\n",
        "TRAIN_PATH = 'train_new.csv'\n",
        "TEST_PATH = 'test_new.csv'"
      ],
      "execution_count": null,
      "outputs": []
    },
    {
      "cell_type": "code",
      "metadata": {
        "colab": {
          "base_uri": "https://localhost:8080/"
        },
        "id": "OcQ5P1Mdvjcl",
        "outputId": "f106dbb8-24c4-4efd-8c9e-d0c8b059ed2f"
      },
      "source": [
        "!unzip digit_recognizer_new.zip "
      ],
      "execution_count": null,
      "outputs": [
        {
          "output_type": "stream",
          "text": [
            "Archive:  digit_recognizer_new.zip\n",
            "  inflating: sample_submission_new.csv  \n",
            "  inflating: test_new.csv            \n",
            "  inflating: train_new.csv           \n"
          ],
          "name": "stdout"
        }
      ]
    },
    {
      "cell_type": "code",
      "metadata": {
        "id": "oNHX1ruEveZX"
      },
      "source": [
        "data=pd.read_csv(TRAIN_PATH)"
      ],
      "execution_count": null,
      "outputs": []
    },
    {
      "cell_type": "code",
      "metadata": {
        "colab": {
          "base_uri": "https://localhost:8080/"
        },
        "id": "b6E7zvlSv2jQ",
        "outputId": "75439bcc-3d54-43e6-9d96-fd27cdc22023"
      },
      "source": [
        "data.columns\n",
        "#số cột dữ liệu"
      ],
      "execution_count": null,
      "outputs": [
        {
          "output_type": "execute_result",
          "data": {
            "text/plain": [
              "Index(['label', 'pixel0', 'pixel1', 'pixel2', 'pixel3', 'pixel4', 'pixel5',\n",
              "       'pixel6', 'pixel7', 'pixel8',\n",
              "       ...\n",
              "       'pixel774', 'pixel775', 'pixel776', 'pixel777', 'pixel778', 'pixel779',\n",
              "       'pixel780', 'pixel781', 'pixel782', 'pixel783'],\n",
              "      dtype='object', length=785)"
            ]
          },
          "metadata": {
            "tags": []
          },
          "execution_count": 6
        }
      ]
    },
    {
      "cell_type": "code",
      "metadata": {
        "colab": {
          "base_uri": "https://localhost:8080/"
        },
        "id": "anOMOyjov7eg",
        "outputId": "38b9be21-32c7-4b7b-a022-172aed339b16"
      },
      "source": [
        "data.shape# kích thước dữ liệu"
      ],
      "execution_count": null,
      "outputs": [
        {
          "output_type": "execute_result",
          "data": {
            "text/plain": [
              "(29400, 785)"
            ]
          },
          "metadata": {
            "tags": []
          },
          "execution_count": 8
        }
      ]
    },
    {
      "cell_type": "code",
      "metadata": {
        "colab": {
          "base_uri": "https://localhost:8080/"
        },
        "id": "VO-IXDuTwQUj",
        "outputId": "4b9e6b82-6f72-43be-ffb0-5b30a665a5ba"
      },
      "source": [
        "print(len(data))\n",
        "#số lượng phần tử tập train"
      ],
      "execution_count": null,
      "outputs": [
        {
          "output_type": "stream",
          "text": [
            "29400\n"
          ],
          "name": "stdout"
        }
      ]
    },
    {
      "cell_type": "markdown",
      "metadata": {
        "id": "TpbkmGtzwDOa"
      },
      "source": [
        "## Xem một số thông tin của tập dữ liệu huấn luyện"
      ]
    },
    {
      "cell_type": "code",
      "metadata": {
        "colab": {
          "base_uri": "https://localhost:8080/",
          "height": 418
        },
        "id": "VKNGzN_3wPPj",
        "outputId": "bcc0983f-6837-40fb-aeba-883d1c3a6377"
      },
      "source": [
        "digits=[0,1,2,3,4,5,6,7,8,9]\n",
        "count=[0]*10\n",
        "for i in range(len(data)):\n",
        "  index=data['label'].values[i]\n",
        "  count[index]+=1\n",
        "fig,ax=plt.subplots(figsize=(9,6))\n",
        "ax.bar(digit,count,width=0.5)\n",
        "ax.set_title('Thống kê số lượng ảnh của mỗi class', fontsize=18)\n",
        "ax.set_xlabel('Chữ số', fontsize=14)\n",
        "ax.set_ylabel('Số lượng ảnh', fontsize=14)\n",
        "\n",
        "plt.xticks(digits, fontsize=14)\n",
        "\n",
        "plt.show()"
      ],
      "execution_count": null,
      "outputs": [
        {
          "output_type": "display_data",
          "data": {
            "image/png": "[encoded data removed]",
            "text/plain": [
              "<Figure size 648x432 with 1 Axes>"
            ]
          },
          "metadata": {
            "tags": [],
            "needs_background": "light"
          }
        }
      ]
    },
    {
      "cell_type": "markdown",
      "metadata": {
        "id": "XHfFIixvxhZI"
      },
      "source": [
        "**Dữ liệu rất cân bằng ở mỗi class**"
      ]
    },
    {
      "cell_type": "markdown",
      "metadata": {
        "id": "e9ij6CuExsso"
      },
      "source": [
        "#  Chia dữ liệu huấn luyện và chọn mô hình máy học"
      ]
    },
    {
      "cell_type": "markdown",
      "metadata": {
        "id": "fuctRx6FyJIF"
      },
      "source": [
        "# phân chia tập dữ liệu"
      ]
    },
    {
      "cell_type": "code",
      "metadata": {
        "id": "FD7YdOU3wLBl"
      },
      "source": [
        "percent_train = 0.75\n",
        "len_train = int(len(data)*percent_train)\n",
        "\n",
        "y_train = np.array(data['label'][0:len_train])\n",
        "X_train = np.array(data.iloc[:len_train,1:])\n",
        "\n",
        "y_test = np.array(data['label'][len_train:])\n",
        "X_test = np.array(data.iloc[len_train:,1:])"
      ],
      "execution_count": null,
      "outputs": []
    },
    {
      "cell_type": "markdown",
      "metadata": {
        "id": "ovZyo6aSyNtM"
      },
      "source": [
        "## Chọn các mô hình máy học "
      ]
    },
    {
      "cell_type": "code",
      "metadata": {
        "id": "LHrS_OUoyiqA"
      },
      "source": [
        ""
      ],
      "execution_count": null,
      "outputs": []
    },
    {
      "cell_type": "markdown",
      "metadata": {
        "id": "rKIERxNvyWpP"
      },
      "source": [
        "**Random Forest**\n",
        "\n"
      ]
    },
    {
      "cell_type": "code",
      "metadata": {
        "colab": {
          "base_uri": "https://localhost:8080/"
        },
        "id": "1RqLBer7yVqG",
        "outputId": "1f847caa-acf8-4c8f-f952-73e82328b00c"
      },
      "source": [
        "#su dung random forest\n",
        "from sklearn.ensemble import RandomForestClassifier\n",
        "\n",
        "# Khởi tạo một mô mình máy học.\n",
        "modelRF = RandomForestClassifier(max_depth=15)\n",
        "\n",
        "# Bắt đầu huấn luyện mô hình trên dữ liệu được phân chia.\n",
        "modelRF.fit(X_train, y_train)"
      ],
      "execution_count": null,
      "outputs": [
        {
          "output_type": "execute_result",
          "data": {
            "text/plain": [
              "RandomForestClassifier(bootstrap=True, ccp_alpha=0.0, class_weight=None,\n",
              "                       criterion='gini', max_depth=15, max_features='auto',\n",
              "                       max_leaf_nodes=None, max_samples=None,\n",
              "                       min_impurity_decrease=0.0, min_impurity_split=None,\n",
              "                       min_samples_leaf=1, min_samples_split=2,\n",
              "                       min_weight_fraction_leaf=0.0, n_estimators=100,\n",
              "                       n_jobs=None, oob_score=False, random_state=None,\n",
              "                       verbose=0, warm_start=False)"
            ]
          },
          "metadata": {
            "tags": []
          },
          "execution_count": 13
        }
      ]
    },
    {
      "cell_type": "markdown",
      "metadata": {
        "id": "B4qJy0iRytfT"
      },
      "source": [
        "### SVM"
      ]
    },
    {
      "cell_type": "code",
      "metadata": {
        "colab": {
          "base_uri": "https://localhost:8080/"
        },
        "id": "RVkZ1gkZyv_6",
        "outputId": "ae34cbc2-6d84-43e8-a4d2-38006958c86f"
      },
      "source": [
        "#rbf SVM\n",
        "from sklearn.svm import SVC\n",
        "modelSVM1 = SVC(kernel = 'linear', random_state = 0)\n",
        "modelSVM1.fit(X_train, y_train)"
      ],
      "execution_count": null,
      "outputs": [
        {
          "output_type": "execute_result",
          "data": {
            "text/plain": [
              "SVC(C=1.0, break_ties=False, cache_size=200, class_weight=None, coef0=0.0,\n",
              "    decision_function_shape='ovr', degree=3, gamma='scale', kernel='linear',\n",
              "    max_iter=-1, probability=False, random_state=0, shrinking=True, tol=0.001,\n",
              "    verbose=False)"
            ]
          },
          "metadata": {
            "tags": []
          },
          "execution_count": 14
        }
      ]
    },
    {
      "cell_type": "code",
      "metadata": {
        "colab": {
          "base_uri": "https://localhost:8080/"
        },
        "id": "u3DlZCOpyssC",
        "outputId": "d1a4ef2a-49a8-4c1f-8334-809f6f6e59d4"
      },
      "source": [
        "#linear SVM\n",
        "from sklearn.svm import SVC\n",
        "modelSVM2 = SVC (kernel = 'linear', random_state = 0)\n",
        "modelSVM2.fit(X_train, y_train)"
      ],
      "execution_count": null,
      "outputs": [
        {
          "output_type": "execute_result",
          "data": {
            "text/plain": [
              "SVC(C=1.0, break_ties=False, cache_size=200, class_weight=None, coef0=0.0,\n",
              "    decision_function_shape='ovr', degree=3, gamma='scale', kernel='linear',\n",
              "    max_iter=-1, probability=False, random_state=0, shrinking=True, tol=0.001,\n",
              "    verbose=False)"
            ]
          },
          "metadata": {
            "tags": []
          },
          "execution_count": 15
        }
      ]
    },
    {
      "cell_type": "markdown",
      "metadata": {
        "id": "MUVM8Prv1-gI"
      },
      "source": [
        "**Logistic Regression**"
      ]
    },
    {
      "cell_type": "code",
      "metadata": {
        "colab": {
          "base_uri": "https://localhost:8080/"
        },
        "id": "P-3-OCnM2DNA",
        "outputId": "6cf6cc94-bb87-4f7a-d72f-936e6d40e63a"
      },
      "source": [
        "from sklearn.linear_model import LogisticRegression\n",
        "model_lr = LogisticRegression(random_state = 0)\n",
        "model_lr.fit(X_train, y_train)"
      ],
      "execution_count": null,
      "outputs": [
        {
          "output_type": "stream",
          "text": [
            "/usr/local/lib/python3.7/dist-packages/sklearn/linear_model/_logistic.py:940: ConvergenceWarning: lbfgs failed to converge (status=1):\n",
            "STOP: TOTAL NO. of ITERATIONS REACHED LIMIT.\n",
            "\n",
            "Increase the number of iterations (max_iter) or scale the data as shown in:\n",
            "    https://scikit-learn.org/stable/modules/preprocessing.html\n",
            "Please also refer to the documentation for alternative solver options:\n",
            "    https://scikit-learn.org/stable/modules/linear_model.html#logistic-regression\n",
            "  extra_warning_msg=_LOGISTIC_SOLVER_CONVERGENCE_MSG)\n"
          ],
          "name": "stderr"
        },
        {
          "output_type": "execute_result",
          "data": {
            "text/plain": [
              "LogisticRegression(C=1.0, class_weight=None, dual=False, fit_intercept=True,\n",
              "                   intercept_scaling=1, l1_ratio=None, max_iter=100,\n",
              "                   multi_class='auto', n_jobs=None, penalty='l2',\n",
              "                   random_state=0, solver='lbfgs', tol=0.0001, verbose=0,\n",
              "                   warm_start=False)"
            ]
          },
          "metadata": {
            "tags": []
          },
          "execution_count": 16
        }
      ]
    },
    {
      "cell_type": "markdown",
      "metadata": {
        "id": "Iq71mIh23flM"
      },
      "source": [
        "### Naive Bayes"
      ]
    },
    {
      "cell_type": "code",
      "metadata": {
        "colab": {
          "base_uri": "https://localhost:8080/"
        },
        "id": "tyF1nxY13Wdj",
        "outputId": "9af2f684-18a7-4ab5-840e-761757fec6d0"
      },
      "source": [
        "from sklearn.naive_bayes import GaussianNB\n",
        "clf = GaussianNB()\n",
        "clf.fit(X_train, y_train)\n",
        "y_pred=clf.predict(X_test)\n",
        "scoreNB=clf.score(X_test,y_test)\n",
        "print(scoreNB)"
      ],
      "execution_count": null,
      "outputs": [
        {
          "output_type": "stream",
          "text": [
            "0.5506122448979592\n"
          ],
          "name": "stdout"
        }
      ]
    },
    {
      "cell_type": "markdown",
      "metadata": {
        "id": "MNgLvw_S4C9R"
      },
      "source": [
        "## kiểm tra độ chính xác của các model"
      ]
    },
    {
      "cell_type": "code",
      "metadata": {
        "id": "HmcZGZOS4HKj"
      },
      "source": [
        "modelArray=[modelRF,model_lr,modelSVM1,modelSVM1,modelSVM2,clf]"
      ],
      "execution_count": null,
      "outputs": []
    },
    {
      "cell_type": "code",
      "metadata": {
        "colab": {
          "base_uri": "https://localhost:8080/"
        },
        "id": "RqNQg7Hg4GCa",
        "outputId": "59af2d25-c0ff-4d93-9c60-fd7ed3f55450"
      },
      "source": [
        "from sklearn.metrics import classification_report\n",
        "for model in modelArray:\n",
        "# Đưa ra dự đoán nhãn của các mẫu dữ liệu trong tập dữ liệu kiểm thử được phân chia ở trên\n",
        "  y_pred = model.predict(X_test)\n",
        "\n",
        "  # Tính toán mộ số độ đo đánh giá mô hình\n",
        "  print(classification_report(y_true=y_test, y_pred=y_pred, target_names=[str(i) for i in range(10)]))\n",
        "\n",
        "  # Tính độ chính xác của mô hình trên tập dữ liệu test đã được phân chia.\n",
        "  score = model.score(X_test, y_test)\n",
        "  print(\"Độ chính xác của mô hình là: {:.2f} %\".format(score*100))"
      ],
      "execution_count": null,
      "outputs": [
        {
          "output_type": "stream",
          "text": [
            "              precision    recall  f1-score   support\n",
            "\n",
            "           0       0.97      0.98      0.97       724\n",
            "           1       0.98      0.98      0.98       804\n",
            "           2       0.95      0.97      0.96       728\n",
            "           3       0.95      0.93      0.94       740\n",
            "           4       0.95      0.95      0.95       718\n",
            "           5       0.96      0.96      0.96       667\n",
            "           6       0.97      0.97      0.97       727\n",
            "           7       0.96      0.95      0.96       788\n",
            "           8       0.95      0.93      0.94       719\n",
            "           9       0.92      0.93      0.93       735\n",
            "\n",
            "    accuracy                           0.95      7350\n",
            "   macro avg       0.95      0.95      0.95      7350\n",
            "weighted avg       0.95      0.95      0.95      7350\n",
            "\n",
            "Độ chính xác của mô hình là: 95.50 %\n",
            "              precision    recall  f1-score   support\n",
            "\n",
            "           0       0.95      0.96      0.96       724\n",
            "           1       0.96      0.97      0.96       804\n",
            "           2       0.89      0.90      0.90       728\n",
            "           3       0.89      0.85      0.87       740\n",
            "           4       0.93      0.90      0.92       718\n",
            "           5       0.86      0.86      0.86       667\n",
            "           6       0.94      0.93      0.93       727\n",
            "           7       0.92      0.94      0.93       788\n",
            "           8       0.87      0.87      0.87       719\n",
            "           9       0.88      0.90      0.89       735\n",
            "\n",
            "    accuracy                           0.91      7350\n",
            "   macro avg       0.91      0.91      0.91      7350\n",
            "weighted avg       0.91      0.91      0.91      7350\n",
            "\n",
            "Độ chính xác của mô hình là: 90.93 %\n",
            "              precision    recall  f1-score   support\n",
            "\n",
            "           0       0.94      0.97      0.96       724\n",
            "           1       0.95      0.98      0.97       804\n",
            "           2       0.88      0.92      0.90       728\n",
            "           3       0.86      0.88      0.87       740\n",
            "           4       0.90      0.93      0.91       718\n",
            "           5       0.89      0.87      0.88       667\n",
            "           6       0.95      0.94      0.95       727\n",
            "           7       0.93      0.92      0.93       788\n",
            "           8       0.89      0.82      0.86       719\n",
            "           9       0.90      0.87      0.88       735\n",
            "\n",
            "    accuracy                           0.91      7350\n",
            "   macro avg       0.91      0.91      0.91      7350\n",
            "weighted avg       0.91      0.91      0.91      7350\n",
            "\n",
            "Độ chính xác của mô hình là: 91.06 %\n",
            "              precision    recall  f1-score   support\n",
            "\n",
            "           0       0.94      0.97      0.96       724\n",
            "           1       0.95      0.98      0.97       804\n",
            "           2       0.88      0.92      0.90       728\n",
            "           3       0.86      0.88      0.87       740\n",
            "           4       0.90      0.93      0.91       718\n",
            "           5       0.89      0.87      0.88       667\n",
            "           6       0.95      0.94      0.95       727\n",
            "           7       0.93      0.92      0.93       788\n",
            "           8       0.89      0.82      0.86       719\n",
            "           9       0.90      0.87      0.88       735\n",
            "\n",
            "    accuracy                           0.91      7350\n",
            "   macro avg       0.91      0.91      0.91      7350\n",
            "weighted avg       0.91      0.91      0.91      7350\n",
            "\n",
            "Độ chính xác của mô hình là: 91.06 %\n",
            "              precision    recall  f1-score   support\n",
            "\n",
            "           0       0.94      0.97      0.96       724\n",
            "           1       0.95      0.98      0.97       804\n",
            "           2       0.88      0.92      0.90       728\n",
            "           3       0.86      0.88      0.87       740\n",
            "           4       0.90      0.93      0.91       718\n",
            "           5       0.89      0.87      0.88       667\n",
            "           6       0.95      0.94      0.95       727\n",
            "           7       0.93      0.92      0.93       788\n",
            "           8       0.89      0.82      0.86       719\n",
            "           9       0.90      0.87      0.88       735\n",
            "\n",
            "    accuracy                           0.91      7350\n",
            "   macro avg       0.91      0.91      0.91      7350\n",
            "weighted avg       0.91      0.91      0.91      7350\n",
            "\n",
            "Độ chính xác của mô hình là: 91.06 %\n",
            "              precision    recall  f1-score   support\n",
            "\n",
            "           0       0.64      0.93      0.76       724\n",
            "           1       0.76      0.94      0.84       804\n",
            "           2       0.82      0.22      0.34       728\n",
            "           3       0.66      0.39      0.49       740\n",
            "           4       0.79      0.14      0.23       718\n",
            "           5       0.73      0.06      0.12       667\n",
            "           6       0.64      0.94      0.76       727\n",
            "           7       0.87      0.30      0.45       788\n",
            "           8       0.31      0.60      0.41       719\n",
            "           9       0.38      0.92      0.54       735\n",
            "\n",
            "    accuracy                           0.55      7350\n",
            "   macro avg       0.66      0.54      0.49      7350\n",
            "weighted avg       0.66      0.55      0.50      7350\n",
            "\n",
            "Độ chính xác của mô hình là: 55.06 %\n"
          ],
          "name": "stdout"
        }
      ]
    },
    {
      "cell_type": "markdown",
      "metadata": {
        "id": "9LfT6tPg5QDT"
      },
      "source": [
        "# Dự đoán nhãn cho dữ liệu test"
      ]
    },
    {
      "cell_type": "code",
      "metadata": {
        "id": "kV5cnX9R5S00"
      },
      "source": [
        "# Đọc dữ liệu từ file test\n",
        "test_data = pd.read_csv(TEST_PATH)\n",
        "test_vectors = np.array(test_data.iloc[:,:])"
      ],
      "execution_count": null,
      "outputs": []
    },
    {
      "cell_type": "code",
      "metadata": {
        "id": "GJPAKIRw9kps"
      },
      "source": [
        "result = np.array(modelRF.predict(test_vectors))"
      ],
      "execution_count": 40,
      "outputs": []
    },
    {
      "cell_type": "code",
      "metadata": {
        "id": "NC9bXJNF6gf3"
      },
      "source": [
        "result_arr=[]"
      ],
      "execution_count": null,
      "outputs": []
    },
    {
      "cell_type": "code",
      "metadata": {
        "id": "nnqEDf_v6Xu-"
      },
      "source": [
        "# Tạo một hàng đầu tiên có hai cột là ImangeID và Label\n",
        "df = pd.DataFrame(columns=['ImageId','Label'])\n",
        "\n",
        "# Duyệt dữ kết quả và ghi vào df\n",
        "for i, v in enumerate(result):\n",
        "  df = df.append({'ImageId':i+1,'Label':v}, ignore_index=True)\n",
        "\n",
        "# Ghi ra file csv\n",
        "df.to_csv('submission.csv',index = False)\n",
        "#chọn lần lượt model ở trên để có các result thay đổi"
      ],
      "execution_count": 41,
      "outputs": []
    },
    {
      "cell_type": "markdown",
      "metadata": {
        "id": "SwlStP3E6tFi"
      },
      "source": [
        "### Ghi lại kết quả của bài toán vào file submission"
      ]
    },
    {
      "cell_type": "code",
      "metadata": {
        "id": "MWnT0YpU6xn6"
      },
      "source": [
        "# # Tạo một hàng đầu tiên có hai cột là ImangeID và Label\n",
        "# df = pd.DataFrame(columns=['ImageId','Label'])\n",
        "# for result in result_arr:\n",
        "# # Duyệt dữ kết quả và ghi vào df\n",
        "#   for i, v in enumerate(result):\n",
        "#     df = df.append({'ImageId':i+1,'Label':v}, ignore_index=True)\n",
        "\n",
        "#   # Ghi ra file csv\n",
        "#   df.to_csv(f'submission{i}.csv',index = False)"
      ],
      "execution_count": null,
      "outputs": []
    },
    {
      "cell_type": "code",
      "metadata": {
        "id": "hCTVk2xf7Oux"
      },
      "source": [
        "import math, requests\n",
        "\n",
        "def submit_prediction(df, sep=',', comment='', compression='gzip', **kwargs):\n",
        "    TOKEN='53d524ef8560d949225a8d9d0f564e09ce7d56aba25a56e303db0849e3db9b72f20a516b25d6eee74eb6fe5a97067d4fc3999778c315e8de174cc456e5042307'\n",
        "    URL='http://submission.mmlab.uit.edu.vn/api/submissions'\n",
        "    df.to_csv('temporary.dat', sep=sep, compression=compression, **kwargs)\n",
        "    r = requests.post(URL, headers={'Authorization': 'Bearer {}'.format(TOKEN)},files={'datafile': open('temporary.dat', 'rb')},data={'comment':comment, 'compression': compression})\n",
        "    if r.status_code == 429:\n",
        "        raise Exception('Submissions are too close. Next submission is only allowed in {} seconds.'.format(int(math.ceil(int(r.headers['x-rate-limit-remaining']) / 1000.0))))\n",
        "    if r.status_code != 200:\n",
        "        raise Exception(r.text)"
      ],
      "execution_count": 45,
      "outputs": []
    },
    {
      "cell_type": "code",
      "metadata": {
        "id": "DT4iouIG8hKh"
      },
      "source": [
        "path = 'submission.csv'\n",
        "submit_data = pd.read_csv(path)\n",
        "submit_prediction(submit_data, sep=',', index=True, comment='test submission')"
      ],
      "execution_count": 46,
      "outputs": []
    }
  ]
}